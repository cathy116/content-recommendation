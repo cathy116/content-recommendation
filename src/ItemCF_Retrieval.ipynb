{
 "cells": [
  {
   "cell_type": "code",
   "execution_count": 2,
   "metadata": {},
   "outputs": [
    {
     "name": "stdout",
     "output_type": "stream",
     "text": [
      "Number of records in ItemCF_user_item: 985732\n",
      "Number of records in ItemCF_item_item: 78059\n"
     ]
    }
   ],
   "source": [
    "import sqlite3\n",
    "\n",
    "# Connect to SQLite database\n",
    "conn = sqlite3.connect('../data/processed_data/yelp_ItemCF.db')\n",
    "cursor = conn.cursor()\n",
    "\n",
    "# Function to get the number of records in a table\n",
    "def get_table_record_count(table_name):\n",
    "    cursor.execute(f'SELECT COUNT(*) FROM {table_name}')\n",
    "    count = cursor.fetchone()[0]\n",
    "    return count\n",
    "\n",
    "# Check number of records in user-item table\n",
    "user_item_count = get_table_record_count('user_item_index')\n",
    "print(f'Number of records in ItemCF_user_item: {user_item_count}')\n",
    "\n",
    "# Check number of records in item-item table\n",
    "item_item_count = get_table_record_count('item_item_similarity')\n",
    "print(f'Number of records in ItemCF_item_item: {item_item_count}')\n",
    "\n",
    "# Close the database connection\n",
    "conn.close()\n"
   ]
  }
 ],
 "metadata": {
  "kernelspec": {
   "display_name": "content-recommendation-0SgTkEMC",
   "language": "python",
   "name": "python3"
  },
  "language_info": {
   "codemirror_mode": {
    "name": "ipython",
    "version": 3
   },
   "file_extension": ".py",
   "mimetype": "text/x-python",
   "name": "python",
   "nbconvert_exporter": "python",
   "pygments_lexer": "ipython3",
   "version": "3.11.4"
  }
 },
 "nbformat": 4,
 "nbformat_minor": 2
}
